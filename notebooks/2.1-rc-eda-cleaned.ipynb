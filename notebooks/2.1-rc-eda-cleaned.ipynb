{
 "cells": [
  {
   "cell_type": "markdown",
   "metadata": {},
   "source": [
    "## 3. Análise Exploratória com Dados Limpos  \n",
    "📒 `2.1-rc-eda-cleaned.ipynb`\n",
    "\n",
    "**Objetivo:** Explorar os dados tratados por meio de estatísticas descritivas e visualizações gráficas para identificar padrões, tendências e possíveis relações entre variáveis.\n",
    "\n",
    "📊 **Atividades:**\n",
    "- Relação entre Variáveis Númericas (scatterplots, heatmap)\n",
    "- Relação entre Variáveis Categóricas e o Alvo (`price`)\n",
    "- Insights Relevantes\n",
    "- Next Steps\n"
   ]
  },
  {
   "cell_type": "code",
   "execution_count": null,
   "metadata": {},
   "outputs": [],
   "source": [
    "import pandas as pd\n",
    "import numpy as np\n",
    "import matplotlib.pyplot as plt\n",
    "import seaborn as sns\n",
    "import warnings\n",
    "from _utils import classificar_correlacao\n",
    "\n",
    "%matplotlib inline\n",
    "\n",
    "# Setup para mostrar todas as colunas do dataframe\n",
    "pd.set_option('display.max_columns', None)\n",
    "pd.set_option('display.width', 1000)\n",
    "\n",
    "# Desabilita mensagens de FutureWarnings\n",
    "warnings.filterwarnings(\"ignore\", category=FutureWarning)"
   ]
  },
  {
   "cell_type": "code",
   "execution_count": null,
   "metadata": {},
   "outputs": [],
   "source": [
    "file_path = \"../data/processed/car_price_cleaned.csv\"\n",
    "df = pd.read_csv(file_path)\n",
    "\n",
    "df.head()"
   ]
  },
  {
   "cell_type": "markdown",
   "metadata": {},
   "source": [
    "#### Variáveis Numéricas\n",
    "\n",
    "**Insights esperados**:\n",
    "- Quais são as minhas variáveis númericas que existe correlação significativa com o a variável alvo `price`? Qual a força dessa correlação? Qual a relação linear?"
   ]
  },
  {
   "cell_type": "code",
   "execution_count": 77,
   "metadata": {},
   "outputs": [],
   "source": [
    "# Deletar as colunas de `city-mpg` e `highway-mpg`,  em virtude da variável derivada que foi criada de consumo médio `avg-fuel-consumption`\n",
    "# Deletar `symboling` variável categórica classificada por 'risk-classification'  \n",
    "df.drop(['city-mpg', 'highway-mpg', 'symboling'], axis=1, inplace=True)"
   ]
  },
  {
   "cell_type": "code",
   "execution_count": null,
   "metadata": {},
   "outputs": [],
   "source": [
    "# Estatistica Descritiva\n",
    "df.describe()"
   ]
  },
  {
   "cell_type": "code",
   "execution_count": 78,
   "metadata": {},
   "outputs": [],
   "source": [
    "# Seleciona as variáveis numéricas\n",
    "features_numeric = df.select_dtypes(include=['int64', 'float64']).columns.to_list()"
   ]
  },
  {
   "cell_type": "code",
   "execution_count": null,
   "metadata": {},
   "outputs": [],
   "source": [
    "# Matriz de correlação\n",
    "plt.figure(figsize=(12, 8))\n",
    "sns.heatmap(df[features_numeric].corr(), annot=True, cmap='coolwarm', fmt=\".2f\")\n",
    "plt.title('Matriz de Correlação entre Variáveis Numéricas')\n",
    "plt.savefig('../reports/figures/eda_heatmap_correlation')\n"
   ]
  },
  {
   "cell_type": "markdown",
   "metadata": {},
   "source": [
    "\n",
    "**STEP 01:** Selecionar as variáveis preditoras que possuem correlação com a variável alvo `price`. Aqui iremos verificar se existe correlação e qual a a sua força e se a relação é linear positiva ou negativa.\n",
    "\n",
    "**NOTA:** Considerar o nível de confiança alpha=0.05 (para um intervalo de 95% de confiança)\n",
    "\n",
    "- i) **p-value(p):** verifica se existe ou não correlação dentro de um intervalo de confiança de 95%\n",
    "    - P-value > 0.05    Ho = ***não há diferança ou correlação significativa***\n",
    "    - P-value < 0.05    Ha = ***há diferença ou correlação significativa***\n",
    "- ii) **pearson_correlation(r):** medir a força da correlação, sendo que (+) a correlação é positiva, (-) a correlação é negativa.\n",
    "\n",
    "| Valor de r (+ ou -) | Interpretação           |\n",
    "|---------------------|-------------------------|\n",
    "| 0.00 a 0.19         | correlação muito fraca  |\n",
    "| 0.20 a 0.39         | correlação fraca        |\n",
    "| 0.40 a 0.69         | correlação moderada     |\n",
    "| 0.70 a 0.89         | correlação forte        |\n",
    "| 0.90 a 1.00         | correlação muito forte  |\n",
    "\n",
    "Fonte: SHIMAKURA, Silvia Emiko. Interpretação do coeficiente de correlação. LEG, UFPR,. 2006."
   ]
  },
  {
   "cell_type": "code",
   "execution_count": null,
   "metadata": {},
   "outputs": [],
   "source": []
  },
  {
   "cell_type": "code",
   "execution_count": null,
   "metadata": {},
   "outputs": [],
   "source": [
    "# Histograma para distribuição (em matriz de subplots)\n",
    "n = len(features_numeric)\n",
    "cols = 3  # número de colunas da matriz de gráficos\n",
    "rows = (n + cols - 1) // cols\n",
    "\n",
    "fig, axes = plt.subplots(rows, cols, figsize=(cols*5, rows*3))\n",
    "axes = axes.flatten()\n",
    "\n",
    "for i, col in enumerate(features_numeric):\n",
    "    sns.histplot(df[col], kde=True, bins=30, ax=axes[i])\n",
    "    axes[i].set_title(f'Distribuição - {col}')\n",
    "    axes[i].set_xlabel(col)\n",
    "    axes[i].set_ylabel('Frequência')\n",
    "\n",
    "# Remove eixos extras se houver\n",
    "for j in range(i+1, len(axes)):\n",
    "    fig.delaxes(axes[j])\n",
    "\n",
    "plt.tight_layout()\n",
    "fig.savefig('../reports/figures/eda_hist_numerical')\n",
    "plt.show()"
   ]
  },
  {
   "cell_type": "markdown",
   "metadata": {},
   "source": [
    "#### Variáveis Categóricas\n"
   ]
  },
  {
   "cell_type": "code",
   "execution_count": 73,
   "metadata": {},
   "outputs": [],
   "source": [
    "# Contagem de categorias (em matriz de subplots)\n",
    "categorical_features = df.select_dtypes(include=['object']).columns.to_list()\n",
    "n = len(categorical_features)\n",
    "cols = 3\n",
    "rows = (n + cols - 1) // cols"
   ]
  },
  {
   "cell_type": "code",
   "execution_count": null,
   "metadata": {},
   "outputs": [],
   "source": [
    "fig, axes = plt.subplots(rows, cols, figsize=(cols*5, rows*4))\n",
    "axes = axes.flatten()\n",
    "\n",
    "for i, col in enumerate(categorical_features):\n",
    "    ax=axes[i]\n",
    "    counts = df[col].value_counts()\n",
    "    sns.countplot(data=df, x=col, order=df[col].value_counts().index, ax=axes[i] )\n",
    "    axes[i].set_title(f'Contagem - {col}')\n",
    "    axes[i].tick_params(axis='x', rotation=45)\n",
    "\n",
    "        # Adiciona labels nas barras\n",
    "    for p in ax.patches:\n",
    "        height = p.get_height()\n",
    "        ax.annotate(f'{int(height)}', (p.get_x() + p.get_width() / 2., height),\n",
    "                    ha='center', va='bottom', fontsize=10, color='black', xytext=(0, 3), textcoords='offset points')\n",
    "\n",
    "for j in range(i+1, len(axes)):\n",
    "    fig.delaxes(axes[j])\n",
    "\n",
    "plt.tight_layout()\n",
    "fig.savefig('../reports/figures/eda_hist_categorical')\n",
    "plt.show()"
   ]
  },
  {
   "cell_type": "code",
   "execution_count": null,
   "metadata": {},
   "outputs": [],
   "source": [
    "# Boxplot entre variáveis categóricas e alvo (price)\n",
    "if 'price' in df.columns:\n",
    "    n = len(categorical_features)\n",
    "    cols = 2\n",
    "    rows = (n + cols - 1) // cols\n",
    "\n",
    "    fig, axes = plt.subplots(rows, cols, figsize=(cols*6, rows*4))\n",
    "    axes = axes.flatten()\n",
    "\n",
    "    for i, col in enumerate(categorical_features):\n",
    "        sns.boxplot(data=df, x=col, y='price', order=df[col].value_counts().index, ax=axes[i])\n",
    "        axes[i].set_title(f'Preço por Categoria - {col}')\n",
    "        axes[i].tick_params(axis='x', rotation=45)\n",
    "\n",
    "    for j in range(i+1, len(axes)):\n",
    "        fig.delaxes(axes[j])\n",
    "\n",
    "    plt.tight_layout()\n",
    "    plt.show()"
   ]
  },
  {
   "cell_type": "code",
   "execution_count": null,
   "metadata": {},
   "outputs": [],
   "source": []
  }
 ],
 "metadata": {
  "kernelspec": {
   "display_name": ".venv",
   "language": "python",
   "name": "python3"
  },
  "language_info": {
   "codemirror_mode": {
    "name": "ipython",
    "version": 3
   },
   "file_extension": ".py",
   "mimetype": "text/x-python",
   "name": "python",
   "nbconvert_exporter": "python",
   "pygments_lexer": "ipython3",
   "version": "3.11.11"
  }
 },
 "nbformat": 4,
 "nbformat_minor": 2
}
