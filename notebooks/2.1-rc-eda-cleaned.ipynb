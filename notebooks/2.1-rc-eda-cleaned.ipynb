{
 "cells": [
  {
   "cell_type": "markdown",
   "metadata": {},
   "source": [
    "## 3. Análise Exploratória com Dados Limpos  \n",
    "📒 `2.1-rc-eda-cleaned.ipynb`\n",
    "\n",
    "**Objetivo:** Explorar os dados tratados por meio de estatísticas descritivas e visualizações gráficas para identificar padrões, tendências e possíveis relações entre variáveis.\n",
    "\n",
    "📊 **Atividades:**\n",
    "- Relação entre Variáveis Númericas (scatterplots, heatmap)\n",
    "- Relação entre Variáveis Categóricas e o Alvo (`price`)\n",
    "- Insights Relevantes\n",
    "- Next Steps\n"
   ]
  },
  {
   "cell_type": "code",
   "execution_count": null,
   "metadata": {
    "vscode": {
     "languageId": "plaintext"
    }
   },
   "outputs": [],
   "source": []
  }
 ],
 "metadata": {
  "language_info": {
   "name": "python"
  }
 },
 "nbformat": 4,
 "nbformat_minor": 2
}
