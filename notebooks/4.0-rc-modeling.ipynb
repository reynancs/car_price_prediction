{
 "cells": [
  {
   "cell_type": "markdown",
   "metadata": {},
   "source": [
    "## 4. Modeling\n",
    "📒 `4.0-rc-modeling.ipynb`\n",
    "\n",
    "**Objetivo:** Criar Modelo de Regressão\n",
    "\n",
    "⚙️ **Atividades:**\n",
    "- Normalização "
   ]
  }
 ],
 "metadata": {
  "language_info": {
   "name": "python"
  }
 },
 "nbformat": 4,
 "nbformat_minor": 2
}
