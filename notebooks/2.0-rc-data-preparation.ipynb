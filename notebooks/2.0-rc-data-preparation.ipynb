{
 "cells": [
  {
   "cell_type": "markdown",
   "metadata": {},
   "source": [
    "## 3. Data Preparation\n",
    "📒 `2.0-rc-data-preparation.ipynb`\n",
    "- Limpeza de dados (valores nulos, inconsistentes)\n",
    "- Conversão dos tipos de dados\n",
    "- Encoding de variáveis categóricas (como tipo de imóvel)\n",
    "- Normalização/padronização de variáveis numéricas\n",
    "- Salvamento do dataset limpo (`data/processed/`)"
   ]
  },
  {
   "cell_type": "code",
   "execution_count": null,
   "metadata": {},
   "outputs": [],
   "source": [
    "import pandas as pd\n",
    "import numpy as np\n",
    "\n"
   ]
  },
  {
   "cell_type": "code",
   "execution_count": null,
   "metadata": {},
   "outputs": [],
   "source": []
  }
 ],
 "metadata": {
  "kernelspec": {
   "display_name": ".venv",
   "language": "python",
   "name": "python3"
  },
  "language_info": {
   "name": "python",
   "version": "3.11.11"
  }
 },
 "nbformat": 4,
 "nbformat_minor": 2
}
