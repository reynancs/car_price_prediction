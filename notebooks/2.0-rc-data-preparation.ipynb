{
 "cells": [
  {
   "cell_type": "markdown",
   "metadata": {},
   "source": [
    "## 3. Data Preparation\n",
    "📒 `2.0-rc-data-preparation.ipynb`\n",
    "\n",
    "**Objetivo:** Transformar os dados brutos em um formato que possa ser usado para modelagem.\n",
    "\n",
    "⚙️ Aqui você:\n",
    "- Limpeza dos Dados, identificados na fase anterior\n",
    "- Trata dados faltantes, padroniza formatos, remove duplicatas\n",
    "- Faz conversões de tipos, normalizações, e categorização\n",
    "- Gera novas features e refina o dataset para o modelo\n",
    "- - Salvamento do dataset limpo (`data/processed/`)"
   ]
  },
  {
   "cell_type": "code",
   "execution_count": 1,
   "metadata": {},
   "outputs": [],
   "source": [
    "import pandas as pd\n",
    "import numpy as np\n",
    "import matplotlib.pyplot as plt\n",
    "import seaborn as sns\n",
    "\n",
    "%matplotlib inline\n",
    "\n"
   ]
  },
  {
   "cell_type": "code",
   "execution_count": null,
   "metadata": {},
   "outputs": [],
   "source": []
  }
 ],
 "metadata": {
  "kernelspec": {
   "display_name": ".venv",
   "language": "python",
   "name": "python3"
  },
  "language_info": {
   "codemirror_mode": {
    "name": "ipython",
    "version": 3
   },
   "file_extension": ".py",
   "mimetype": "text/x-python",
   "name": "python",
   "nbconvert_exporter": "python",
   "pygments_lexer": "ipython3",
   "version": "3.11.11"
  }
 },
 "nbformat": 4,
 "nbformat_minor": 2
}
